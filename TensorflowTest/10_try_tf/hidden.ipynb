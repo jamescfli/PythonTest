{
 "cells": [
  {
   "cell_type": "code",
   "execution_count": 1,
   "metadata": {
    "collapsed": true,
    "deletable": true,
    "editable": true
   },
   "outputs": [],
   "source": [
    "# %matplotlib nbagg\n",
    "# %matplotlib notebook\n",
    "\n",
    "import numpy as np\n",
    "import tensorflow as tf\n",
    "import matplotlib\n",
    "from matplotlib import pyplot as plt\n",
    "from matplotlib import colors\n",
    "\n",
    "%matplotlib inline"
   ]
  },
  {
   "cell_type": "code",
   "execution_count": 2,
   "metadata": {
    "collapsed": false,
    "deletable": true,
    "editable": true
   },
   "outputs": [],
   "source": [
    "# Global variables.\n",
    "NUM_LABELS = 2    # The number of labels.\n",
    "BATCH_SIZE = 100  # The number of training examples to use per training step.\n",
    "\n",
    "# data:     train eval\n",
    "#   linear: 1000  200\n",
    "#   moon:   2000  1000\n",
    "#   saturn: 500   100\n",
    "tf.app.flags.DEFINE_string('train', 'simdata/saturn_data_train.csv',\n",
    "                           'File containing the training data (labels & features).')\n",
    "tf.app.flags.DEFINE_string('test', 'simdata/saturn_data_eval.csv',\n",
    "                           'File containing the test data (labels & features).')\n",
    "tf.app.flags.DEFINE_integer('num_epochs', 20,\n",
    "                            'Number of passes over the training data.')\n",
    "tf.app.flags.DEFINE_integer('num_hidden', 100,\n",
    "                            'Number of nodes in the hidden layer.')\n",
    "tf.app.flags.DEFINE_boolean('verbose', False, 'Produce verbose output.')\n",
    "tf.app.flags.DEFINE_boolean('plot', True, 'Plot the final decision boundary on the data.')\n",
    "FLAGS = tf.app.flags.FLAGS"
   ]
  },
  {
   "cell_type": "code",
   "execution_count": 3,
   "metadata": {
    "collapsed": true
   },
   "outputs": [],
   "source": [
    "# Extract numpy representations of the labels and features given rows consisting of:\n",
    "#   label, feat_0, feat_1, ..., feat_n\n",
    "def extract_data(filename):\n",
    "\n",
    "    # Arrays to hold the labels and feature vectors.\n",
    "    labels = []\n",
    "    fvecs = []\n",
    "\n",
    "    # Iterate over the rows, splitting the label from the features. Convert labels\n",
    "    # to integers and features to floats.\n",
    "    for line in file(filename):     # file class has iterator property\n",
    "        row = line.split(\",\")\n",
    "        labels.append(int(row[0]))      # however the final output after net will be in float type\n",
    "        fvecs.append([float(x) for x in row[1:]])\n",
    "\n",
    "    # Convert the array of float arrays into a numpy float matrix.\n",
    "    fvecs_np = np.array(fvecs).astype(np.float32)\n",
    "\n",
    "    # Convert the array of int labels into a numpy array.\n",
    "    labels_np = np.array(labels).astype(dtype=np.uint8)     # either 0 or 1\n",
    "\n",
    "    # Convert the int numpy array into a one-hot matrix.\n",
    "    labels_onehot = (np.arange(NUM_LABELS) == labels_np[:, None]).astype(np.float32)       # Boolean to Float number\n",
    "\n",
    "    # Return a pair of the feature matrix and the one-hot label matrix.\n",
    "    return fvecs_np, labels_onehot"
   ]
  },
  {
   "cell_type": "code",
   "execution_count": 4,
   "metadata": {
    "collapsed": true
   },
   "outputs": [],
   "source": [
    "# Init weights method. (Lifted from Delip Rao: http://deliprao.com/archives/100)\n",
    "def init_weights(shape, init_method='xavier', xavier_params = (None, None)):\n",
    "    if init_method == 'zeros':\n",
    "        return tf.Variable(tf.zeros(shape, dtype=tf.float32))\n",
    "    elif init_method == 'uniform':\n",
    "        return tf.Variable(tf.random_normal(shape, stddev=0.01, dtype=tf.float32))\n",
    "    else:   # xavier\n",
    "        (fan_in, fan_out) = xavier_params\n",
    "        low = -4*np.sqrt(6.0/(fan_in + fan_out))    # {sigmoid:4, tanh:1}\n",
    "        high = 4*np.sqrt(6.0/(fan_in + fan_out))\n",
    "        return tf.Variable(tf.random_uniform(shape, minval=low, maxval=high, dtype=tf.float32))"
   ]
  },
  {
   "cell_type": "code",
   "execution_count": 5,
   "metadata": {
    "collapsed": true
   },
   "outputs": [],
   "source": [
    "def plot_boundary_on_data(X, Y, pred_func):\n",
    "    # determine canvas borders, in np.matrix\n",
    "    mins = np.min(X, axis=0)         # np.min (which is just an alias for np.amin)\n",
    "    mins -= 0.1 * np.abs(mins)\n",
    "    maxs = np.amax(X, axis=0)\n",
    "    maxs += 0.1 * maxs\n",
    "\n",
    "    ## generate dense grid\n",
    "    xs, ys = np.meshgrid(np.linspace(mins[0], maxs[0], 300),\n",
    "                         np.linspace(mins[1], maxs[1], 300))\n",
    "\n",
    "\n",
    "    # evaluate model on the dense grid\n",
    "    Z = pred_func(np.c_[xs.flatten(), ys.flatten()])    # column stack\n",
    "    Z = Z.reshape(xs.shape)\n",
    "\n",
    "    # Plot the contour and training examples\n",
    "    plt.contourf(xs, ys, Z, cmap=plt.cm.Spectral)   # draw contour lines and filled contours\n",
    "    plt.scatter(X[:, 0], X[:, 1], c=Y[:,1], s=50, cmap=colors.ListedColormap(['orange', 'blue']))\n",
    "#     plt.show()"
   ]
  },
  {
   "cell_type": "code",
   "execution_count": 6,
   "metadata": {
    "collapsed": true
   },
   "outputs": [],
   "source": [
    "# Be verbose?\n",
    "verbose = FLAGS.verbose\n",
    "\n",
    "# Plot? \n",
    "plot = FLAGS.plot\n",
    "\n",
    "# Get the data.\n",
    "train_data_filename = FLAGS.train\n",
    "test_data_filename = FLAGS.test\n",
    "\n",
    "# Extract it into numpy arrays.\n",
    "train_data, train_labels = extract_data(train_data_filename)\n",
    "test_data, test_labels = extract_data(test_data_filename)\n",
    "\n",
    "# TODO save it to tfrecord format\n",
    "\n",
    "# Get the shape of the training data.\n",
    "train_size, num_features = train_data.shape\n",
    "\n",
    "# Get the number of epochs for training.\n",
    "num_epochs = FLAGS.num_epochs\n",
    "\n",
    "# Get the size of layer one.\n",
    "num_hidden = FLAGS.num_hidden"
   ]
  },
  {
   "cell_type": "code",
   "execution_count": 7,
   "metadata": {
    "collapsed": true
   },
   "outputs": [],
   "source": [
    "# This is where training samples and labels are fed to the graph.\n",
    "# These placeholder nodes will be fed a batch of training data at each\n",
    "# training step using the {feed_dict} argument to the Run() call below.\n",
    "x = tf.placeholder(\"float\", shape=[None, num_features])\n",
    "y_ = tf.placeholder(\"float\", shape=[None, NUM_LABELS])      # label, not the output tensor\n",
    "\n",
    "# For the test data, hold the entire dataset in one constant node.\n",
    "test_data_node = tf.constant(test_data)\n",
    "\n",
    "# Define and initialize the network.\n",
    "\n",
    "# Initialize the hidden weights and biases.\n",
    "w_hidden = init_weights(\n",
    "    [num_features, num_hidden],\n",
    "    'xavier',\n",
    "    xavier_params=(num_features, num_hidden))\n",
    "\n",
    "b_hidden = init_weights([1, num_hidden], 'zeros')\n",
    "\n",
    "# The hidden layer.\n",
    "hidden = tf.nn.tanh(tf.matmul(x, w_hidden) + b_hidden)\n",
    "\n",
    "# Initialize the output weights and biases.\n",
    "w_out = init_weights(\n",
    "    [num_hidden, NUM_LABELS],\n",
    "    'xavier',\n",
    "    xavier_params=(num_hidden, NUM_LABELS))\n",
    "\n",
    "b_out = init_weights([1, NUM_LABELS], 'zeros')\n",
    "\n",
    "# The output layer.\n",
    "y = tf.nn.softmax(tf.matmul(hidden, w_out) + b_out)     # to be compared with y_\n",
    "\n",
    "# Optimization.\n",
    "cross_entropy = -tf.reduce_sum(y_*tf.log(y))\n",
    "train_step = tf.train.GradientDescentOptimizer(0.01).minimize(cross_entropy)\n",
    "\n",
    "# Evaluation.\n",
    "predicted_class = tf.argmax(y, 1);\n",
    "correct_prediction = tf.equal(tf.argmax(y,1), tf.argmax(y_,1))\n",
    "accuracy = tf.reduce_mean(tf.cast(correct_prediction, \"float\"))\n",
    "\n",
    "# All tensors are fully prepared"
   ]
  },
  {
   "cell_type": "code",
   "execution_count": 11,
   "metadata": {
    "collapsed": false
   },
   "outputs": [
    {
     "name": "stdout",
     "output_type": "stream",
     "text": [
      "Accuracy on test data: 1.0\n"
     ]
    },
    {
     "data": {
      "image/png": "[encoded data removed]",
      "text/plain": [
       "<matplotlib.figure.Figure at 0x11469c490>"
      ]
     },
     "metadata": {},
     "output_type": "display_data"
    }
   ],
   "source": [
    "# Create a local session to run this computation.\n",
    "with tf.Session() as sess:\n",
    "    # Run all the initializers to prepare the trainable parameters.\n",
    "    sess.run(tf.global_variables_initializer())\n",
    "    if verbose:\n",
    "        print 'Initialized!'\n",
    "        print\n",
    "        print 'Training.'\n",
    "\n",
    "    # Iterate and train.\n",
    "    for step in xrange(num_epochs * train_size // BATCH_SIZE):\n",
    "        if verbose:\n",
    "            print step,\n",
    "\n",
    "        offset = (step * BATCH_SIZE) % train_size\n",
    "        batch_data = train_data[offset:(offset + BATCH_SIZE), :]\n",
    "        batch_labels = train_labels[offset:(offset + BATCH_SIZE)]\n",
    "        train_step.run(feed_dict={x: batch_data, y_: batch_labels})\n",
    "        if verbose and offset >= train_size-BATCH_SIZE:       # last batch in one epoch\n",
    "            print         # change line\n",
    "        if verbose:\n",
    "            if (step+1) % 5 == 0:\n",
    "                print 'Accuracy @ step {:02d}: {:.05f}'\\\n",
    "                    .format(step, accuracy.eval(feed_dict={x: test_data, y_: test_labels}))\n",
    "    print \"Accuracy on test data:\", accuracy.eval(feed_dict={x: test_data, y_: test_labels})\n",
    "    \n",
    "    if plot:\n",
    "        eval_fun = lambda X: predicted_class.eval(feed_dict={x: X})\n",
    "        plot_boundary_on_data(test_data, test_labels, eval_fun)\n",
    "#         plot_boundary_on_data(train_data, train_labels, eval_fun)"
   ]
  }
 ],
 "metadata": {
  "kernelspec": {
   "display_name": "Python 2",
   "language": "python",
   "name": "python2"
  },
  "language_info": {
   "codemirror_mode": {
    "name": "ipython",
    "version": 2
   },
   "file_extension": ".py",
   "mimetype": "text/x-python",
   "name": "python",
   "nbconvert_exporter": "python",
   "pygments_lexer": "ipython2",
   "version": "2.7.12"
  }
 },
 "nbformat": 4,
 "nbformat_minor": 0
}
