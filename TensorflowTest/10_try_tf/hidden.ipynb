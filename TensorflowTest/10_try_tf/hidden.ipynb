{
 "cells": [
  {
   "cell_type": "code",
   "execution_count": 1,
   "metadata": {
    "collapsed": true,
    "deletable": true,
    "editable": true
   },
   "outputs": [],
   "source": [
    "# %matplotlib nbagg\n",
    "# %matplotlib notebook\n",
    "\n",
    "import numpy as np\n",
    "import tensorflow as tf\n",
    "import matplotlib\n",
    "from matplotlib import pyplot as plt\n",
    "from matplotlib import colors\n",
    "\n",
    "%matplotlib inline"
   ]
  },
  {
   "cell_type": "code",
   "execution_count": 2,
   "metadata": {
    "collapsed": true,
    "deletable": true,
    "editable": true
   },
   "outputs": [],
   "source": [
    "# Global variables.\n",
    "NUM_LABELS = 2    # The number of labels.\n",
    "BATCH_SIZE = 100  # The number of training examples to use per training step.\n",
    "\n",
    "# data:     train eval\n",
    "#   linear: 1000  200\n",
    "#   moon:   2000  1000\n",
    "#   saturn: 500   100\n",
    "tf.app.flags.DEFINE_string('train', 'simdata/saturn_data_train.csv',\n",
    "                           'File containing the training data (labels & features).')\n",
    "tf.app.flags.DEFINE_string('test', 'simdata/saturn_data_eval.csv',\n",
    "                           'File containing the test data (labels & features).')\n",
    "tf.app.flags.DEFINE_integer('num_epochs', 20,\n",
    "                            'Number of passes over the training data.')\n",
    "tf.app.flags.DEFINE_integer('num_hidden', 50,\n",
    "                            'Number of nodes in the hidden layer.')\n",
    "tf.app.flags.DEFINE_boolean('verbose', True, 'Produce verbose output.')\n",
    "tf.app.flags.DEFINE_boolean('plot', True, 'Plot the final decision boundary on the data.')\n",
    "\n",
    "tf.app.flags.DEFINE_string('tfrecord_directory', 'tfrecords/',\n",
    "                           'Folder to save tfrecord data (labels & features).')\n",
    "tf.app.flags.DEFINE_string('train_valid_test_split', 'train',\n",
    "                           'Differentiate train, valid and test data set.')\n",
    "\n",
    "FLAGS = tf.app.flags.FLAGS"
   ]
  },
  {
   "cell_type": "code",
   "execution_count": 3,
   "metadata": {
    "collapsed": true,
    "deletable": true,
    "editable": true
   },
   "outputs": [],
   "source": [
    "# Extract numpy representations of the labels and features given rows consisting of:\n",
    "#   label, feat_0, feat_1, ..., feat_n\n",
    "def extract_data(filename):\n",
    "\n",
    "    # Arrays to hold the labels and feature vectors.\n",
    "    labels = []\n",
    "    fvecs = []\n",
    "\n",
    "    # Iterate over the rows, splitting the label from the features. Convert labels\n",
    "    # to integers and features to floats.\n",
    "    for line in file(filename):     # file class has iterator property\n",
    "        row = line.split(\",\")\n",
    "        labels.append(int(row[0]))      # however the final output after net will be in float type\n",
    "        fvecs.append([float(x) for x in row[1:]])\n",
    "\n",
    "    # Convert the array of float arrays into a numpy float matrix.\n",
    "    fvecs_np = np.array(fvecs).astype(np.float32)\n",
    "\n",
    "    # Convert the array of int labels into a numpy array.\n",
    "    labels_np = np.array(labels).astype(dtype=np.uint8)     # either 0 or 1\n",
    "\n",
    "    # Convert the int numpy array into a one-hot matrix.\n",
    "    labels_onehot = (np.arange(NUM_LABELS) == labels_np[:, None]).astype(np.float32)       # Boolean to Float number\n",
    "\n",
    "    # Return a pair of the feature matrix and the one-hot label matrix.\n",
    "    return fvecs_np, labels_onehot"
   ]
  },
  {
   "cell_type": "code",
   "execution_count": 4,
   "metadata": {
    "collapsed": true,
    "deletable": true,
    "editable": true
   },
   "outputs": [],
   "source": [
    "# Init weights method. (Lifted from Delip Rao: http://deliprao.com/archives/100)\n",
    "def init_weights(shape, init_method='xavier', xavier_params = (None, None)):\n",
    "    if init_method == 'zeros':\n",
    "        return tf.Variable(tf.zeros(shape, dtype=tf.float32))\n",
    "    elif init_method == 'uniform':\n",
    "        return tf.Variable(tf.random_normal(shape, stddev=0.01, dtype=tf.float32))\n",
    "    else:   # xavier\n",
    "        (fan_in, fan_out) = xavier_params\n",
    "        low = -4*np.sqrt(6.0/(fan_in + fan_out))    # {sigmoid:4, tanh:1}\n",
    "        high = 4*np.sqrt(6.0/(fan_in + fan_out))\n",
    "        return tf.Variable(tf.random_uniform(shape, minval=low, maxval=high, dtype=tf.float32))"
   ]
  },
  {
   "cell_type": "code",
   "execution_count": 5,
   "metadata": {
    "collapsed": false,
    "deletable": true,
    "editable": true
   },
   "outputs": [],
   "source": [
    "# for tfrecord writing\n",
    "def _int64_feature(value):\n",
    "    return tf.train.Feature(int64_list=tf.train.Int64List(value=value))\n",
    "\n",
    "def _float_feature(value):\n",
    "    return tf.train.Feature(float_list=tf.train.FloatList(value=value))\n",
    "\n",
    "def _bytes_feature(value):\n",
    "    return tf.train.Feature(bytes_list=tf.train.BytesList(value=value))\n",
    "\n",
    "def convert_to_tfrecords(features, labels, filename):\n",
    "    if features.shape[0] != labels.shape[0]:\n",
    "        raise ValueError('Sample nb doesnot match for feature and label')\n",
    "    nb_examples = features.shape[0]\n",
    "    filename = FLAGS.tfrecord_directory + filename + '.tfrecord'\n",
    "    print('Writing {}'.format(filename))\n",
    "    writer = tf.python_io.TFRecordWriter(filename)\n",
    "    for index in range(nb_examples):\n",
    "        example = tf.train.Example(features=tf.train.Features(feature={\n",
    "            'feature': _float_feature(features[index, :]),\n",
    "            'label': _float_feature(labels[index, :]),\n",
    "        }))\n",
    "        writer.write(example.SerializeToString())\n",
    "    writer.close()"
   ]
  },
  {
   "cell_type": "code",
   "execution_count": 6,
   "metadata": {
    "collapsed": true,
    "deletable": true,
    "editable": true
   },
   "outputs": [],
   "source": [
    "# for tfrecord reading\n",
    "def read_from_tfrecords(filename_queue):\n",
    "    reader = tf.TFRecordReader()\n",
    "    _, serialized_example = reader.read(filename_queue)\n",
    "    features = tf.parse_single_example(serialized_example,\n",
    "                                      features = {\n",
    "                                          'feature': tf.VarLenFeature(tf.float32),\n",
    "                                          'label': tf.FixedLenFeature([2], tf.float32),\n",
    "                                      })\n",
    "    feature_t = tf.sparse_tensor_to_dense(features['feature'], default_value=0)\n",
    "    feature_t = tf.reshape(feature_t, (2,))\n",
    "    label_t = tf.cast(features['label'], tf.float32)   # actually duplicated in here\n",
    "    return feature_t, label_t"
   ]
  },
  {
   "cell_type": "code",
   "execution_count": 7,
   "metadata": {
    "collapsed": true,
    "deletable": true,
    "editable": true
   },
   "outputs": [],
   "source": [
    "def input_pipeline(filename):\n",
    "    filename = FLAGS.tfrecord_directory + filename + '.tfrecord'\n",
    "    with tf.name_scope('input'):\n",
    "        # special case with a single file\n",
    "        filename_queue = tf.train.string_input_producer([filename], FLAGS.num_epochs)\n",
    "        feature_t, label_t = read_from_tfrecords(filename_queue)\n",
    "        features, labels = tf.train.shuffle_batch([feature_t, label_t],\n",
    "                                                 batch_size = BATCH_SIZE,\n",
    "                                                 num_threads = 2,\n",
    "                                                 capacity = 1000 + 3*BATCH_SIZE,\n",
    "                                                 min_after_dequeue = 1000)\n",
    "        return features, labels"
   ]
  },
  {
   "cell_type": "code",
   "execution_count": 8,
   "metadata": {
    "collapsed": false,
    "deletable": true,
    "editable": true
   },
   "outputs": [
    {
     "name": "stdout",
     "output_type": "stream",
     "text": [
      "Writing tfrecords/saturn_data_train.tfrecord\n",
      "Writing tfrecords/saturn_data_eval.tfrecord\n"
     ]
    }
   ],
   "source": [
    "# Be verbose?\n",
    "verbose = FLAGS.verbose\n",
    "\n",
    "# Plot? \n",
    "plot = FLAGS.plot\n",
    "\n",
    "# Get the data.\n",
    "train_data_filename = FLAGS.train\n",
    "test_data_filename = FLAGS.test\n",
    "\n",
    "# Extract it into numpy arrays.\n",
    "train_data, train_labels = extract_data(train_data_filename)\n",
    "test_data, test_labels = extract_data(test_data_filename)\n",
    "\n",
    "# TODO save it to tfrecord format\n",
    "filename_no_preext_train = FLAGS.train.split('.')[0].split('/')[-1]\n",
    "filename_no_preext_test = FLAGS.test.split('.')[0].split('/')[-1]\n",
    "convert_to_tfrecords(train_data, train_labels, filename_no_preext_train)\n",
    "convert_to_tfrecords(test_data, test_labels, filename_no_preext_test)\n",
    "\n",
    "# Get the shape of the training data.\n",
    "train_size, num_features = train_data.shape\n",
    "\n",
    "# Get the number of epochs for training.\n",
    "num_epochs = FLAGS.num_epochs\n",
    "\n",
    "# Get the size of layer one.\n",
    "num_hidden = FLAGS.num_hidden"
   ]
  },
  {
   "cell_type": "code",
   "execution_count": 9,
   "metadata": {
    "collapsed": true,
    "deletable": true,
    "editable": true
   },
   "outputs": [],
   "source": [
    "def build_net(features, labels):\n",
    "    # Initialize the hidden weights and biases.\n",
    "    w_hidden = init_weights(\n",
    "        [num_features, num_hidden],\n",
    "        'xavier',\n",
    "        xavier_params=(num_features, num_hidden))\n",
    "\n",
    "    b_hidden = init_weights([1, num_hidden], 'zeros')\n",
    "\n",
    "    # The hidden layer.\n",
    "    hidden = tf.nn.tanh(tf.matmul(features, w_hidden) + b_hidden)\n",
    "\n",
    "    # Initialize the output weights and biases.\n",
    "    w_out = init_weights(\n",
    "        [num_hidden, NUM_LABELS],\n",
    "        'xavier',\n",
    "        xavier_params=(num_hidden, NUM_LABELS))\n",
    "\n",
    "    b_out = init_weights([1, NUM_LABELS], 'zeros')\n",
    "\n",
    "    # The output layer.\n",
    "    y = tf.nn.softmax(tf.matmul(hidden, w_out) + b_out)     # to be compared with y_\n",
    "\n",
    "    # Optimization.\n",
    "    cross_entropy = -tf.reduce_sum(labels*tf.log(y))\n",
    "    train_step = tf.train.GradientDescentOptimizer(0.01).minimize(cross_entropy)\n",
    "\n",
    "    # Evaluation.\n",
    "    predicted_class = tf.argmax(y, 1);\n",
    "    correct_prediction = tf.equal(tf.argmax(y,1), tf.argmax(labels,1))\n",
    "    accuracy = tf.reduce_mean(tf.cast(correct_prediction, \"float\"))\n",
    "    \n",
    "    return cross_entropy, train_step, predicted_class, correct_prediction, accuracy"
   ]
  },
  {
   "cell_type": "code",
   "execution_count": 10,
   "metadata": {
    "collapsed": true,
    "deletable": true,
    "editable": true
   },
   "outputs": [],
   "source": [
    "def plot_boundary_on_data(features, labels, pred_func):\n",
    "    # determine canvas borders, in np.matrix\n",
    "    mins = np.min(features, axis=0)         # np.min (which is just an alias for np.amin)\n",
    "    mins -= 0.1 * np.abs(mins)\n",
    "    maxs = np.amax(features, axis=0)\n",
    "    maxs += 0.1 * maxs\n",
    "\n",
    "    ## generate dense grid\n",
    "    xs, ys = np.meshgrid(np.linspace(mins[0], maxs[0], 300),\n",
    "                         np.linspace(mins[1], maxs[1], 300))\n",
    "    \n",
    "    nb_points_on_grid = xs.flatten().__len__()\n",
    "\n",
    "    # evaluate model on the dense grid\n",
    "    Z = []\n",
    "    for i in range(nb_points_on_grid // BATCH_SIZE):\n",
    "        Z.append(pred_func(np.c_[xs.flatten()[i*BATCH_SIZE:(i+1)*BATCH_SIZE], \n",
    "                                 ys.flatten()[i*BATCH_SIZE:(i+1)*BATCH_SIZE]]))\n",
    "    Z = np.array(Z).reshape(xs.shape)\n",
    "\n",
    "    # Plot the contour and training examples\n",
    "    plt.contourf(xs, ys, Z, cmap=plt.cm.Spectral)   # draw contour lines and filled contours\n",
    "    plt.scatter(features[:, 0], features[:, 1], c=labels[:,1], \n",
    "                s=50, cmap=colors.ListedColormap(['orange', 'blue']))"
   ]
  },
  {
   "cell_type": "code",
   "execution_count": 11,
   "metadata": {
    "collapsed": false,
    "deletable": true,
    "editable": true
   },
   "outputs": [
    {
     "name": "stdout",
     "output_type": "stream",
     "text": [
      "[100   2]\n",
      "[100   2]\n",
      "Accuracy @ step 005: 0.73000\n",
      "Accuracy @ step 010: 0.56000\n",
      "Accuracy @ step 015: 0.55000\n",
      "Accuracy @ step 020: 0.62000\n",
      "Accuracy @ step 025: 0.54000\n",
      "Accuracy @ step 030: 0.55000\n",
      "Accuracy @ step 035: 0.60000\n",
      "Accuracy @ step 040: 0.66000\n",
      "Accuracy @ step 045: 0.76000\n",
      "Accuracy @ step 050: 0.75000\n",
      "Accuracy @ step 055: 0.63000\n",
      "Accuracy @ step 060: 0.74000\n",
      "Accuracy @ step 065: 0.95000\n",
      "Accuracy @ step 070: 0.98000\n",
      "Accuracy @ step 075: 0.98000\n",
      "Accuracy @ step 080: 0.87000\n",
      "Accuracy @ step 085: 0.82000\n",
      "Accuracy @ step 090: 0.67000\n",
      "Accuracy @ step 095: 0.96000\n",
      "Accuracy @ step 100: 1.00000\n",
      "Done training for 20 epochs, 101 steps\n",
      "Accuracy on test data: 0.99\n"
     ]
    },
    {
     "data": {
      "image/png": "[encoded data removed]",
      "text/plain": [
       "<matplotlib.figure.Figure at 0x119ede590>"
      ]
     },
     "metadata": {},
     "output_type": "display_data"
    }
   ],
   "source": [
    "# with tf.Graph().as_default():    # can be skipped\n",
    "# read from tfrecords\n",
    "features, labels = input_pipeline(filename_no_preext_train)   # output the tensors\n",
    "# prepare all optimization and evaluation tensors\n",
    "cross_entropy, train_step, predicted_class, correct_prediction, accuracy = \\\n",
    "    build_net(features, labels)\n",
    "\n",
    "with tf.Session() as sess:\n",
    "    init_op = tf.group(tf.global_variables_initializer(), tf.local_variables_initializer())\n",
    "    sess.run(init_op)\n",
    "    \n",
    "    print tf.shape(features).eval()\n",
    "    print tf.shape(labels).eval()\n",
    "\n",
    "#     # debug\n",
    "#     print [str(i.name) for i in tf.local_variables()]\n",
    "\n",
    "    coord = tf.train.Coordinator()\n",
    "    threads = tf.train.start_queue_runners(sess=sess, coord=coord)\n",
    "\n",
    "    try:\n",
    "        step = 1\n",
    "        while not coord.should_stop():\n",
    "            _, loss_value, accuracy_value = sess.run([train_step, cross_entropy, accuracy])\n",
    "            if verbose:\n",
    "                if step % 5 == 0:\n",
    "                    print 'Accuracy @ step {:03d}: {:.05f}'.format(step, accuracy_value)\n",
    "            step += 1\n",
    "    except tf.errors.OutOfRangeError:\n",
    "        print('Done training for {} epochs, {} steps'.format(FLAGS.num_epochs, step))\n",
    "    finally:\n",
    "        coord.request_stop()\n",
    "\n",
    "    coord.join(threads)\n",
    "\n",
    "    # test_data co-incidently has shape of (BATCH_SIZE, 2)\n",
    "    print \"Accuracy on test data:\", accuracy.eval(feed_dict={features: test_data, labels: test_labels})\n",
    "\n",
    "    if plot:\n",
    "        eval_fun = lambda X: predicted_class.eval(feed_dict={features: X})\n",
    "#         plot_boundary_on_data(test_data, test_labels, eval_fun)\n",
    "        plot_boundary_on_data(train_data, train_labels, eval_fun)"
   ]
  }
 ],
 "metadata": {
  "kernelspec": {
   "display_name": "Python 2",
   "language": "python",
   "name": "python2"
  },
  "language_info": {
   "codemirror_mode": {
    "name": "ipython",
    "version": 2
   },
   "file_extension": ".py",
   "mimetype": "text/x-python",
   "name": "python",
   "nbconvert_exporter": "python",
   "pygments_lexer": "ipython2",
   "version": "2.7.12"
  }
 },
 "nbformat": 4,
 "nbformat_minor": 1
}
