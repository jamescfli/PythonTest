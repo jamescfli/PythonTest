{
 "cells": [
  {
   "cell_type": "code",
   "execution_count": 19,
   "metadata": {},
   "outputs": [],
   "source": [
    "import tensorflow as tf\n",
    "import numpy as np\n",
    "%matplotlib inline\n",
    "import matplotlib.pyplot as plt\n",
    "\n",
    "rng = np.random"
   ]
  },
  {
   "cell_type": "code",
   "execution_count": 2,
   "metadata": {},
   "outputs": [],
   "source": [
    "lr = 0.01\n",
    "n_epochs = 1000\n",
    "dis_step = 50    # unit: epoch"
   ]
  },
  {
   "cell_type": "code",
   "execution_count": 5,
   "metadata": {},
   "outputs": [],
   "source": [
    "train_X = np.asarray([3.3,4.4,5.5,6.71,6.93,4.168,9.779,6.182,7.59,2.167,\n",
    "                         7.042,10.791,5.313,7.997,5.654,9.27,3.1])\n",
    "train_Y = np.asarray([1.7,2.76,2.09,3.19,1.694,1.573,3.366,2.596,2.53,1.221,\n",
    "                         2.827,3.465,1.65,2.904,2.42,2.94,1.3])\n",
    "n_samples = train_X.shape[0]    # 17"
   ]
  },
  {
   "cell_type": "code",
   "execution_count": 10,
   "metadata": {},
   "outputs": [
    {
     "name": "stdout",
     "output_type": "stream",
     "text": [
      "0.197178720303\n"
     ]
    }
   ],
   "source": [
    "X = tf.placeholder(\"float\")\n",
    "Y = tf.placeholder(\"float\")\n",
    "W = tf.Variable(rng.randn(), name=\"weight\")\n",
    "b = tf.Variable(rng.randn(), name=\"bias\")"
   ]
  },
  {
   "cell_type": "code",
   "execution_count": 12,
   "metadata": {},
   "outputs": [],
   "source": [
    "pred = tf.add(tf.multiply(X, W), b)"
   ]
  },
  {
   "cell_type": "code",
   "execution_count": 13,
   "metadata": {},
   "outputs": [],
   "source": [
    "cost = tf.reduce_sum(tf.pow(pred-Y, 2))/(2*n_samples)\n",
    "optimizer = tf.train.GradientDescentOptimizer(lr).minimize(cost)"
   ]
  },
  {
   "cell_type": "code",
   "execution_count": 14,
   "metadata": {},
   "outputs": [],
   "source": [
    "init = tf.global_variables_initializer()"
   ]
  },
  {
   "cell_type": "code",
   "execution_count": 20,
   "metadata": {},
   "outputs": [
    {
     "name": "stdout",
     "output_type": "stream",
     "text": [
      "Epoch: 0050 cost= 0.078703754 W= 0.226712 b= 0.966078\n",
      "Epoch: 0100 cost= 0.078507967 W= 0.228072 b= 0.956288\n",
      "Epoch: 0150 cost= 0.078334697 W= 0.229352 b= 0.947082\n",
      "Epoch: 0200 cost= 0.078181319 W= 0.230556 b= 0.938423\n",
      "Epoch: 0250 cost= 0.078045510 W= 0.231688 b= 0.930279\n",
      "Epoch: 0300 cost= 0.077925295 W= 0.232753 b= 0.922619\n",
      "Epoch: 0350 cost= 0.077818848 W= 0.233754 b= 0.915414\n",
      "Epoch: 0400 cost= 0.077724628 W= 0.234696 b= 0.908638\n",
      "Epoch: 0450 cost= 0.077641189 W= 0.235582 b= 0.902266\n",
      "Epoch: 0500 cost= 0.077567294 W= 0.236415 b= 0.896271\n",
      "Epoch: 0550 cost= 0.077501856 W= 0.237199 b= 0.890633\n",
      "Epoch: 0600 cost= 0.077443913 W= 0.237936 b= 0.88533\n",
      "Epoch: 0650 cost= 0.077392593 W= 0.238629 b= 0.880343\n",
      "Epoch: 0700 cost= 0.077347130 W= 0.239281 b= 0.875652\n",
      "Epoch: 0750 cost= 0.077306852 W= 0.239895 b= 0.871239\n",
      "Epoch: 0800 cost= 0.077271186 W= 0.240472 b= 0.86709\n",
      "Epoch: 0850 cost= 0.077239588 W= 0.241014 b= 0.863186\n",
      "Epoch: 0900 cost= 0.077211574 W= 0.241524 b= 0.859516\n",
      "Epoch: 0950 cost= 0.077186763 W= 0.242004 b= 0.856063\n",
      "Epoch: 1000 cost= 0.077164792 W= 0.242456 b= 0.852816\n",
      "optimization finished.\n",
      "Training cost = 0.0771648 W= 0.242456 b= 0.852816 \n",
      "\n"
     ]
    },
    {
     "data": {
      "image/png": "[encoded data removed]"
     },
     "output_type": "display_data",
     "metadata": {}
    }
   ],
   "source": [
    "# launch the graph\n",
    "with tf.Session() as sess:\n",
    "    sess.run(init)\n",
    "    \n",
    "    for epoch in range(n_epochs):\n",
    "        for (x, y) in zip(train_X, train_Y):\n",
    "            sess.run(optimizer, feed_dict={X: x, Y: y})\n",
    "        # log\n",
    "        if (epoch+1) % dis_step == 0:\n",
    "            c = sess.run(cost, feed_dict={X: train_X, Y: train_Y})\n",
    "            print \"Epoch:\", '%04d' % (epoch+1), \"cost=\", \"{:.9f}\".format(c), \"W=\", sess.run(W), \"b=\", sess.run(b)\n",
    "    print \"optimization finished.\"\n",
    "    training_cost = sess.run(cost, feed_dict={X: train_X, Y: train_Y})\n",
    "    print \"Training cost =\", training_cost, \"W=\", sess.run(W), \"b=\", sess.run(b), '\\n'\n",
    "    \n",
    "    plt.plot(train_X, train_Y, 'ro', label='original data')\n",
    "    plt.plot(train_X, sess.run(W)*train_X+sess.run(b), label='fitted line')\n",
    "    plt.legend()\n",
    "    plt.show()"
   ]
  },
  {
   "cell_type": "code",
   "execution_count": 16,
   "metadata": {},
   "outputs": [
    {
     "name": "stdout",
     "output_type": "stream",
     "text": [
      "{\n",
      "  \"stdin_port\": 57189, \n",
      "  \"ip\": \"127.0.0.1\", \n",
      "  \"control_port\": 57190, \n",
      "  \"hb_port\": 57191, \n",
      "  \"signature_scheme\": \"hmac-sha256\", \n",
      "  \"key\": \"757bd8fe-f2c2e79de98c181ff67beba9\", \n",
      "  \"kernel_name\": \"\", \n",
      "  \"shell_port\": 57187, \n",
      "  \"transport\": \"tcp\", \n",
      "  \"iopub_port\": 57188\n",
      "}\n",
      "\n",
      "Paste the above JSON into a file, and connect with:\n",
      "    $> jupyter <app> --existing <file>\n",
      "or, if you are local, you can connect with just:\n",
      "    $> jupyter <app> --existing kernel-19737de2-72d7-49a4-b4dc-89a3f7535901.json\n",
      "or even just:\n",
      "    $> jupyter <app> --existing\n",
      "if this is the most recent Jupyter kernel you have started.\n"
     ]
    }
   ],
   "source": [
    "%connect_info"
   ]
  },
  {
   "cell_type": "code",
   "execution_count": null,
   "metadata": {},
   "outputs": [],
   "source": [
    ""
   ]
  }
 ],
 "metadata": {
  "kernelspec": {
   "display_name": "Python 2",
   "language": "python",
   "name": "python2"
  },
  "language_info": {
   "codemirror_mode": {
    "name": "ipython",
    "version": 2.0
   },
   "file_extension": ".py",
   "mimetype": "text/x-python",
   "name": "python",
   "nbconvert_exporter": "python",
   "pygments_lexer": "ipython2",
   "version": "2.7.12"
  }
 },
 "nbformat": 4,
 "nbformat_minor": 2
}