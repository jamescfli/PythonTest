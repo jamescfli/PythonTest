{
 "cells": [
  {
   "cell_type": "code",
   "execution_count": 1,
   "metadata": {},
   "outputs": [
    {
     "name": "stdout",
     "output_type": "stream",
     "text": [
      "Extracting ../basics/MNIST/MNIST_data/train-images-idx3-ubyte.gz\n",
      "Extracting ../basics/MNIST/MNIST_data/train-labels-idx1-ubyte.gz\n",
      "Extracting ../basics/MNIST/MNIST_data/t10k-images-idx3-ubyte.gz\n",
      "Extracting ../basics/MNIST/MNIST_data/t10k-labels-idx1-ubyte.gz\n"
     ]
    }
   ],
   "source": [
    "import tensorflow as tf\n",
    "\n",
    "# import MNIST data\n",
    "from tensorflow.examples.tutorials.mnist import input_data\n",
    "# tensorflow.contrib.learn.python.learn.datasets.base.Datasets\n",
    "# with batch function\n",
    "mnist = input_data.read_data_sets(\"../basics/MNIST/MNIST_data\", one_hot=True)"
   ]
  },
  {
   "cell_type": "code",
   "execution_count": 2,
   "metadata": {},
   "outputs": [],
   "source": [
    "lr = 0.01\n",
    "n_ep = 25\n",
    "batch_size = 100\n",
    "dis_step = 1"
   ]
  },
  {
   "cell_type": "code",
   "execution_count": 10,
   "metadata": {},
   "outputs": [],
   "source": [
    "# prepare model\n",
    "x = tf.placeholder(tf.float32, [None, 784])\n",
    "y = tf.placeholder(tf.float32, [None, 10])\n",
    "W = tf.Variable(tf.zeros([784, 10]))\n",
    "b = tf.Variable(tf.zeros([10]))\n",
    "pred = tf.nn.softmax(tf.matmul(x, W) + b)\n",
    "cost = tf.reduce_mean(-tf.reduce_sum(y*tf.log(pred), reduction_indices=1))\n",
    "# .. where indices 0 is the sample index\n",
    "optimizer = tf.train.GradientDescentOptimizer(lr).minimize(cost)\n",
    "\n",
    "init = tf.global_variables_initializer()"
   ]
  },
  {
   "cell_type": "code",
   "execution_count": 17,
   "metadata": {},
   "outputs": [
    {
     "name": "stdout",
     "output_type": "stream",
     "text": [
      "55000\n",
      "10000\n",
      "10000\n"
     ]
    },
    {
     "data": {
      "text/plain": [
       "array([ 0.,  0.,  0.,  0.,  0.,  0.,  0.,  1.,  0.,  0.])"
      ]
     },
     "execution_count": 17,
     "output_type": "execute_result",
     "metadata": {}
    }
   ],
   "source": [
    "print mnist.train.num_examples       # 55000\n",
    "print mnist.test.images.__len__()    # 10000\n",
    "print mnist.test.num_examples\n",
    "mnist.test.images[0]\n",
    "mnist.test.labels[0]   # array([ 0.,0.,0.,0.,0.,0.,0.,1.,0.,0.])"
   ]
  },
  {
   "cell_type": "code",
   "execution_count": 19,
   "metadata": {},
   "outputs": [
    {
     "name": "stdout",
     "output_type": "stream",
     "text": [
      " Epoch: 0001 cost= 1.183361019\n",
      "Epoch: 0002 cost= 0.664976581\n",
      "Epoch: 0003 cost= 0.552721560\n",
      "Epoch: 0004 cost= 0.498660673\n",
      "Epoch: 0005 cost= 0.465441674\n",
      "Epoch: 0006 cost= 0.442552033\n",
      "Epoch: 0007 cost= 0.425538692\n",
      "Epoch: 0008 cost= 0.412199424\n",
      "Epoch: 0009 cost= 0.401344002\n",
      "Epoch: 0010 cost= 0.392373584\n",
      "Epoch: 0011 cost= 0.384712625\n",
      "Epoch: 0012 cost= 0.378228400\n",
      "Epoch: 0013 cost= 0.372422904\n",
      "Epoch: 0014 cost= 0.367294674\n",
      "Epoch: 0015 cost= 0.362691944\n",
      "Epoch: 0016 cost= 0.358639718\n",
      "Epoch: 0017 cost= 0.354874058\n",
      "Epoch: 0018 cost= 0.351421398\n",
      "Epoch: 0019 cost= 0.348332433\n",
      "Epoch: 0020 cost= 0.345401650\n",
      "Epoch: 0021 cost= 0.342745286\n",
      "Epoch: 0022 cost= 0.340300083\n",
      "Epoch: 0023 cost= 0.337872497\n",
      "Epoch: 0024 cost= 0.335758927\n",
      "Epoch: 0025 cost= 0.333698008\n",
      "optimization finished.\n",
      "Accuracy: 0.888667\n"
     ]
    }
   ],
   "source": [
    "with tf.Session() as sess:\n",
    "    sess.run(init)\n",
    "    for epoch in range(n_ep):\n",
    "        avg_cost = 0\n",
    "        # 55000/32 = 1718.75\n",
    "        total_batch = int(mnist.train.num_examples/batch_size)\n",
    "        for i in range(total_batch):\n",
    "            batch_xs, batch_ys = mnist.train.next_batch(batch_size)\n",
    "            _, c = sess.run([optimizer, cost], feed_dict={x: batch_xs, y: batch_ys})\n",
    "            avg_cost += c/total_batch\n",
    "        if (epoch+1) % dis_step == 0:\n",
    "            print \"Epoch:\", '%04d' % (epoch+1), \"cost=\", \"{:.9f}\".format(avg_cost)\n",
    "    print 'optimization finished.'\n",
    "    \n",
    "    # test\n",
    "    correct_prediction = tf.equal(tf.argmax(pred, 1), tf.argmax(y, 1))\n",
    "    accuracy = tf.reduce_mean(tf.cast(correct_prediction, tf.float32))\n",
    "    print \"Accuracy:\", accuracy.eval({x: mnist.test.images[:3000], y:mnist.test.labels[:3000]})"
   ]
  },
  {
   "cell_type": "code",
   "execution_count": null,
   "metadata": {},
   "outputs": [],
   "source": [
    ""
   ]
  }
 ],
 "metadata": {
  "kernelspec": {
   "display_name": "Python 2",
   "language": "python",
   "name": "python2"
  },
  "language_info": {
   "codemirror_mode": {
    "name": "ipython",
    "version": 2.0
   },
   "file_extension": ".py",
   "mimetype": "text/x-python",
   "name": "python",
   "nbconvert_exporter": "python",
   "pygments_lexer": "ipython2",
   "version": "2.7.12"
  }
 },
 "nbformat": 4,
 "nbformat_minor": 2
}