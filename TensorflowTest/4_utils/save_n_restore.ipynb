{
 "cells": [
  {
   "cell_type": "code",
   "execution_count": 1,
   "metadata": {
    "collapsed": false
   },
   "outputs": [
    {
     "name": "stdout",
     "output_type": "stream",
     "text": [
      "Extracting ../basics/MNIST/MNIST_data/train-images-idx3-ubyte.gz\n",
      "Extracting ../basics/MNIST/MNIST_data/train-labels-idx1-ubyte.gz\n",
      "Extracting ../basics/MNIST/MNIST_data/t10k-images-idx3-ubyte.gz\n",
      "Extracting ../basics/MNIST/MNIST_data/t10k-labels-idx1-ubyte.gz\n"
     ]
    }
   ],
   "source": [
    "import tensorflow as tf\n",
    "\n",
    "# import MNIST data\n",
    "from tensorflow.examples.tutorials.mnist import input_data\n",
    "# tensorflow.contrib.learn.python.learn.datasets.base.Datasets\n",
    "# with batch function\n",
    "mnist = input_data.read_data_sets(\"../basics/MNIST/MNIST_data\", one_hot=True)"
   ]
  },
  {
   "cell_type": "code",
   "execution_count": 2,
   "metadata": {
    "collapsed": true
   },
   "outputs": [],
   "source": [
    "lr = 0.01\n",
    "b_size = 100\n",
    "dis_step = 1\n",
    "model_path = 'tmp/model.ckpt'\n",
    "\n",
    "# net parameters\n",
    "n_hidden_1 = 256 # 1st layer number of features\n",
    "n_hidden_2 = 256 # 2nd layer number of features\n",
    "n_input = 784 # MNIST data input (img shape: 28*28)\n",
    "n_classes = 10 # MNIST total classes (0-9 digits)\n",
    "\n",
    "x = tf.placeholder(\"float\", [None, n_input])\n",
    "y = tf.placeholder(\"float\", [None, n_classes])\n",
    "\n",
    "# create model\n",
    "def multilayer_perception(x, weights, biases):\n",
    "    layer_1 = tf.add(tf.matmul(x, weights['h1']), biases['b1'])\n",
    "    layer_1 = tf.nn.relu(layer_1)\n",
    "    layer_2 = tf.add(tf.matmul(layer_1, weights['h2']), biases['b2'])\n",
    "    layer_2 = tf.nn.relu(layer_2)\n",
    "    out_layer = tf.matmul(layer_2, weights['out']) + biases['out']\n",
    "    return out_layer\n",
    "\n",
    "# store\n",
    "weights = {\n",
    "    'h1': tf.Variable(tf.random_normal([n_input, n_hidden_1])),\n",
    "    'h2': tf.Variable(tf.random_normal([n_hidden_1, n_hidden_2])),\n",
    "    'out': tf.Variable(tf.random_normal([n_hidden_2, n_classes]))\n",
    "}\n",
    "biases = {\n",
    "    'b1': tf.Variable(tf.random_normal([n_hidden_1])),\n",
    "    'b2': tf.Variable(tf.random_normal([n_hidden_2])),\n",
    "    'out': tf.Variable(tf.random_normal([n_classes]))\n",
    "}\n",
    "\n",
    "pred = multilayer_perception(x, weights, biases)\n",
    "\n",
    "cost = tf.reduce_mean(tf.nn.softmax_cross_entropy_with_logits(logits=pred, labels=y))\n",
    "optimizer = tf.train.AdamOptimizer(lr).minimize(cost)\n",
    "\n",
    "init = tf.global_variables_initializer()"
   ]
  },
  {
   "cell_type": "code",
   "execution_count": 3,
   "metadata": {
    "collapsed": true
   },
   "outputs": [],
   "source": [
    "saver = tf.train.Saver()"
   ]
  },
  {
   "cell_type": "code",
   "execution_count": 6,
   "metadata": {
    "collapsed": false
   },
   "outputs": [
    {
     "name": "stdout",
     "output_type": "stream",
     "text": [
      "starting 1st session ..\n",
      "Epoch: 0001 cost= 51.486238579\n",
      "Epoch: 0002 cost= 8.757420696\n",
      "Epoch: 0003 cost= 4.567288167\n",
      "1st optimization finished.\n",
      "Accuracy: 0.9478\n",
      "model saved in file: tmp/model.ckpt\n"
     ]
    }
   ],
   "source": [
    "print \"starting 1st session ..\"\n",
    "with tf.Session() as sess:\n",
    "    sess.run(init)\n",
    "    for ep in range(3):\n",
    "        avg_cost = 0.\n",
    "        total_batch = int(mnist.train.num_examples/b_size)\n",
    "        for i in range(total_batch):\n",
    "            batch_x, batch_y = mnist.train.next_batch(b_size)\n",
    "            _, c = sess.run([optimizer, cost], feed_dict={x: batch_x, y: batch_y})\n",
    "            avg_cost += c / total_batch\n",
    "        if ep % dis_step == 0:\n",
    "            print \"Epoch:\", '%04d' % (ep+1), \"cost=\", \"{:.9f}\".format(avg_cost)\n",
    "    print '1st optimization finished.'\n",
    "    \n",
    "    # test\n",
    "    correct_prediction = tf.equal(tf.argmax(pred, 1), tf.argmax(y, 1))\n",
    "    accuracy = tf.reduce_mean(tf.cast(correct_prediction, \"float\"))\n",
    "    print \"Accuracy:\", accuracy.eval({x: mnist.test.images, y: mnist.test.labels})\n",
    "    \n",
    "    # save\n",
    "    save_path = saver.save(sess, model_path)\n",
    "    print \"model saved in file: %s\" % save_path"
   ]
  },
  {
   "cell_type": "code",
   "execution_count": 10,
   "metadata": {
    "collapsed": false
   },
   "outputs": [
    {
     "name": "stdout",
     "output_type": "stream",
     "text": [
      "starting 2nd session ..\n",
      "model restored from file: tmp/model.ckpt\n",
      "Epoch: 0001 cost= 3.112969797\n",
      "Epoch: 0002 cost= 2.599156688\n",
      "Epoch: 0003 cost= 2.344627583\n",
      "Epoch: 0004 cost= 1.972812705\n",
      "Epoch: 0005 cost= 1.823774524\n",
      "Epoch: 0006 cost= 1.495449158\n",
      "Epoch: 0007 cost= 1.189701302\n",
      "2nd optimization finished.\n",
      "Accuracy: 0.9572\n"
     ]
    }
   ],
   "source": [
    "print 'starting 2nd session ..'\n",
    "with tf.Session() as sess:\n",
    "    sess.run(init)    # always initialization\n",
    "    \n",
    "    load_path = saver.restore(sess, model_path)\n",
    "    print \"model restored from file: %s\" % save_path\n",
    "    \n",
    "    for ep in range(7):\n",
    "        avg_cost = 0.\n",
    "        total_batch = int(mnist.train.num_examples/b_size)\n",
    "        for i in range(total_batch):\n",
    "            batch_x, batch_y = mnist.train.next_batch(b_size)\n",
    "            _, c = sess.run([optimizer, cost], feed_dict={x: batch_x, y: batch_y})\n",
    "            avg_cost += c/total_batch\n",
    "        if ep % dis_step == 0:\n",
    "            print \"Epoch:\", '%04d' % (ep + 1), \"cost=\", \"{:.9f}\".format(avg_cost)\n",
    "    print '2nd optimization finished.'\n",
    "        \n",
    "    correct_prediction = tf.equal(tf.argmax(pred, 1), tf.argmax(y, 1))\n",
    "    accuracy = tf.reduce_mean(tf.cast(correct_prediction, \"float\"))\n",
    "    print \"Accuracy:\", accuracy.eval({x: mnist.test.images, y: mnist.test.labels})"
   ]
  },
  {
   "cell_type": "code",
   "execution_count": null,
   "metadata": {
    "collapsed": true
   },
   "outputs": [],
   "source": []
  }
 ],
 "metadata": {
  "kernelspec": {
   "display_name": "Python 2",
   "language": "python",
   "name": "python2"
  },
  "language_info": {
   "codemirror_mode": {
    "name": "ipython",
    "version": 2
   },
   "file_extension": ".py",
   "mimetype": "text/x-python",
   "name": "python",
   "nbconvert_exporter": "python",
   "pygments_lexer": "ipython2",
   "version": "2.7.12"
  }
 },
 "nbformat": 4,
 "nbformat_minor": 2
}
